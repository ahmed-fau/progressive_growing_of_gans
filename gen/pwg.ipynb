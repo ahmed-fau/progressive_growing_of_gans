{
 "cells": [
  {
   "cell_type": "code",
   "execution_count": 21,
   "metadata": {},
   "outputs": [
    {
     "name": "stdout",
     "output_type": "stream",
     "text": [
      "(8, 512)\n"
     ]
    }
   ],
   "source": [
    "import cPickle as pickle\n",
    "import numpy as np\n",
    "\n",
    "with open('gvars_g1.pkl', 'rb') as f:\n",
    "    g1_vars = pickle.load(f)\n",
    "    \n",
    "with open('gvars_g2.pkl', 'rb') as f:\n",
    "    g2_vars = pickle.load(f)\n",
    "    \n",
    "with open('snapshot_z.pkl', 'rb') as f:\n",
    "    snapshot_z = pickle.load(f)\n",
    "    \n",
    "print snapshot_z.shape"
   ]
  },
  {
   "cell_type": "code",
   "execution_count": 12,
   "metadata": {
    "scrolled": true
   },
   "outputs": [
    {
     "name": "stdout",
     "output_type": "stream",
     "text": [
      "G1a.W\n",
      "(512, 512, 16)\n",
      "G1aS.b\n",
      "(512,)\n",
      "G1b.W\n",
      "(512, 512, 9)\n",
      "G1bS.b\n",
      "(512,)\n",
      "G2a.W\n",
      "(512, 512, 9)\n",
      "G2aS.b\n",
      "(512,)\n",
      "G2b.W\n",
      "(512, 512, 9)\n",
      "G2bS.b\n",
      "(512,)\n",
      "G3a.W\n",
      "(512, 512, 9)\n",
      "G3aS.b\n",
      "(512,)\n",
      "G3b.W\n",
      "(512, 512, 9)\n",
      "G3bS.b\n",
      "(512,)\n",
      "G4a.W\n",
      "(512, 512, 9)\n",
      "G4aS.b\n",
      "(512,)\n",
      "G4b.W\n",
      "(512, 512, 9)\n",
      "G4bS.b\n",
      "(512,)\n",
      "G5a.W\n",
      "(256, 512, 9)\n",
      "G5aS.b\n",
      "(256,)\n",
      "G5b.W\n",
      "(256, 256, 9)\n",
      "G5bS.b\n",
      "(256,)\n",
      "G6a.W\n",
      "(128, 256, 9)\n",
      "G6aS.b\n",
      "(128,)\n",
      "G6b.W\n",
      "(128, 128, 9)\n",
      "G6bS.b\n",
      "(128,)\n",
      "Glod0.W\n",
      "(128, 1)\n",
      "Glod0S.b\n",
      "(1,)\n",
      "Glod1.W\n",
      "(256, 1)\n",
      "Glod1S.b\n",
      "(1,)\n",
      "Glod2.W\n",
      "(512, 1)\n",
      "Glod2S.b\n",
      "(1,)\n",
      "Glod3.W\n",
      "(512, 1)\n",
      "Glod3S.b\n",
      "(1,)\n",
      "Glod4.W\n",
      "(512, 1)\n",
      "Glod4S.b\n",
      "(1,)\n",
      "Glod5.W\n",
      "(512, 1)\n",
      "Glod5S.b\n",
      "(1,)\n"
     ]
    }
   ],
   "source": [
    "g1n_to_var = {}\n",
    "for (g1n, g1v), (g2n, g2v) in zip(g1_vars, g2_vars):\n",
    "    g1n_to_var[g1n] = g1v\n",
    "    print g1n\n",
    "    print g1v.shape"
   ]
  },
  {
   "cell_type": "code",
   "execution_count": 35,
   "metadata": {},
   "outputs": [
    {
     "name": "stdout",
     "output_type": "stream",
     "text": [
      "Tensor(\"Pad:0\", shape=(?, 512, 31), dtype=float32)\n",
      "(512, 512, 16)\n",
      "Tensor(\"conv1d/Squeeze:0\", shape=(?, 16, 31), dtype=float32)\n"
     ]
    },
    {
     "data": {
      "text/plain": [
       "'\\nwith tf.Session() as sess:\\n    print sess.run(x, {z: snapshot_z})\\n'"
      ]
     },
     "execution_count": 35,
     "metadata": {},
     "output_type": "execute_result"
    }
   ],
   "source": [
    "import tensorflow as tf\n",
    "\n",
    "def pixel_norm(x):\n",
    "    return x / tf.sqrt(tf.reduce_mean(tf.square(x), axis=1, keep_dims=True) + 1e-8)\n",
    "\n",
    "def w_scale(x):\n",
    "    return x\n",
    "\n",
    "tf.reset_default_graph()\n",
    "\n",
    "z = tf.placeholder(tf.float32, [None, 512])\n",
    "\n",
    "z_norm = pixel_norm(z)\n",
    "\n",
    "x = tf.expand_dims(z_norm, axis=2)\n",
    "\n",
    "x = tf.pad(x, [[0, 0], [0, 0], [15, 15]])\n",
    "print x\n",
    "print g1n_to_var['G1a.W'].shape\n",
    "\n",
    "x = tf.nn.conv1d(x, g1n_to_var['G1a.W'], 1, padding='SAME', data_format='NCHW')\n",
    "print x\n",
    "\"\"\"\n",
    "with tf.Session() as sess:\n",
    "    print sess.run(x, {z: snapshot_z})\n",
    "\"\"\""
   ]
  }
 ],
 "metadata": {
  "kernelspec": {
   "display_name": "Python 2",
   "language": "python",
   "name": "python2"
  },
  "language_info": {
   "codemirror_mode": {
    "name": "ipython",
    "version": 2
   },
   "file_extension": ".py",
   "mimetype": "text/x-python",
   "name": "python",
   "nbconvert_exporter": "python",
   "pygments_lexer": "ipython2",
   "version": "2.7.12"
  }
 },
 "nbformat": 4,
 "nbformat_minor": 2
}
